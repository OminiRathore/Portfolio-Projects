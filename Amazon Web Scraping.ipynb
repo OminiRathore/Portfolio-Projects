{
 "cells": [
  {
   "cell_type": "code",
   "execution_count": 60,
   "id": "e41d467b",
   "metadata": {},
   "outputs": [],
   "source": [
    "#importinh libraries\n",
    "from bs4 import BeautifulSoup\n",
    "import requests\n",
    "import time\n",
    "import datetime\n",
    "import smtplib"
   ]
  },
  {
   "cell_type": "code",
   "execution_count": null,
   "id": "ea66eb8f",
   "metadata": {},
   "outputs": [],
   "source": [
    "#connecting to website\n",
    "URL = 'https://www.amazon.in/Introduction-Machine-Learning-Python-Scientists/dp/9352134575/ref=sr_1_9?crid=25V4SIEM8X2QH&keywords=machine+learning+books&qid=1646018797&sprefix=machine+%2Caps%2C342&sr=8-9'\n",
    "headers = {\"User-Agent\": \"Mozilla/5.0 (Windows NT 10.0; Win64; x64) AppleWebKit/537.36 (KHTML, like Gecko) Chrome/98.0.4758.102 Safari/537.36\", \"Accept-Encoding\":\"gzip, deflate\", \"Accept\":\"text/html,application/xhtml+xml,application/xml;q=0.9,*/*;q=0.8\", \"DNT\":\"1\",\"Connection\":\"close\", \"Upgrade-Insecure-Requests\":\"1\"}\n",
    "\n",
    "page = requests.get(URL, headers = headers)\n",
    "Soup1 = BeautifulSoup(page.content, \"html.parser\")\n",
    "#print(Soup1)\n"
   ]
  },
  {
   "cell_type": "code",
   "execution_count": null,
   "id": "68dc167a",
   "metadata": {},
   "outputs": [],
   "source": [
    "Soup2 = BeautifulSoup(Soup1.prettify(), 'html.parser')\n",
    "\n",
    "#print(Soup2)"
   ]
  },
  {
   "cell_type": "code",
   "execution_count": 39,
   "id": "f1df686a",
   "metadata": {},
   "outputs": [
    {
     "name": "stdout",
     "output_type": "stream",
     "text": [
      "Introduction to Machine Learning with Python: A Guide for Data Scientists (Greyscale Indian Edition)\n",
      "1,200.00\n",
      "2 New 1200.0\n",
      "1 Used 749.0\n"
     ]
    }
   ],
   "source": [
    "title = Soup2.find(id = 'productTitle').getText()\n",
    "title = title.strip()\n",
    "print(title)\n",
    "\n",
    "price = Soup2.find(id = 'price').getText()\n",
    "price = price.strip()[1:]\n",
    "print(price)\n",
    "\n",
    "tags_new = Soup2.find_all('span', attrs={'class': 'olp-new olp-link'})\n",
    "list_new = []\n",
    "for tag in tags_new:\n",
    "    list_new = tag.text.split()\n",
    "Quantity_new = list_new[0]\n",
    "Type_new = list_new[1]\n",
    "Price_new = float(list_new[3][1:].replace(',',''))\n",
    "print(Quantity_new, Type_new, Price_new)\n",
    "\n",
    "\n",
    "tags_used = Soup2.find_all('span', attrs={'class': 'olp-used olp-link'})\n",
    "list_used= []\n",
    "for tag in tags_used:\n",
    "    list_used = tag.text.split()\n",
    "Quantity_used = list_used[0]\n",
    "Type_used = list_used[1]\n",
    "Price_used = float(list_used[3][1:].replace(',',''))\n",
    "print(Quantity_used, Type_used, Price_used)"
   ]
  },
  {
   "cell_type": "code",
   "execution_count": 42,
   "id": "0e91b6e6",
   "metadata": {},
   "outputs": [
    {
     "name": "stdout",
     "output_type": "stream",
     "text": [
      "2022-02-28\n"
     ]
    }
   ],
   "source": [
    "import datetime\n",
    "\n",
    "today = datetime.date.today()\n",
    "print(today)"
   ]
  },
  {
   "cell_type": "code",
   "execution_count": 52,
   "id": "e059cc6b",
   "metadata": {},
   "outputs": [],
   "source": [
    "#importing data into dataset\n",
    "import csv\n",
    "\n",
    "header = ['Book Title', 'Actual Price - Paperback', 'Sources', 'Type', 'Price', 'Date']\n",
    "datarow1 = [title, price, Quantity_new, Type_new, Price_new, today]\n",
    "datarow2 = [title, price, Quantity_used, Type_used, Price_used, today]\n",
    "\n",
    "with open('AmazonWebScrapingDataset.csv', 'w', newline='', encoding='UTF8') as f:\n",
    "    writer = csv.writer(f)\n",
    "    writer.writerow(header)\n",
    "    writer.writerow(datarow1)\n",
    "    writer.writerow(datarow2)\n",
    "    \n",
    "\n"
   ]
  },
  {
   "cell_type": "code",
   "execution_count": 53,
   "id": "f623381a",
   "metadata": {},
   "outputs": [
    {
     "name": "stdout",
     "output_type": "stream",
     "text": [
      "                                          Book Title Actual Price - Paperback  \\\n",
      "0  Introduction to Machine Learning with Python: ...                 1,200.00   \n",
      "1  Introduction to Machine Learning with Python: ...                 1,200.00   \n",
      "\n",
      "   Sources  Type   Price        Date  \n",
      "0        2   New  1200.0  2022-02-28  \n",
      "1        1  Used   749.0  2022-02-28  \n"
     ]
    }
   ],
   "source": [
    "import pandas as pd\n",
    "\n",
    "df= pd.read_csv(r'C:\\Users\\randh\\AmazonWebScrapingDataset.csv')\n",
    "print(df)"
   ]
  },
  {
   "cell_type": "code",
   "execution_count": 46,
   "id": "583b5173",
   "metadata": {},
   "outputs": [],
   "source": [
    "#Appending data to csv\n",
    "with open('AmazonWebScrapingDataset.csv', 'a+', newline='', encoding='UTF8') as f:\n",
    "    writer = csv.writer(f)\n",
    "    writer.writerow(datarow1)\n",
    "    writer.writerow(datarow2)"
   ]
  },
  {
   "cell_type": "code",
   "execution_count": 67,
   "id": "9144abdf",
   "metadata": {},
   "outputs": [],
   "source": [
    "#creating function to import data\n",
    "\n",
    "def check_price():\n",
    "    URL = 'https://www.amazon.in/Introduction-Machine-Learning-Python-Scientists/dp/9352134575/ref=sr_1_9?crid=25V4SIEM8X2QH&keywords=machine+learning+books&qid=1646018797&sprefix=machine+%2Caps%2C342&sr=8-9'\n",
    "    headers = {\"User-Agent\": \"Mozilla/5.0 (Windows NT 10.0; Win64; x64) AppleWebKit/537.36 (KHTML, like Gecko) Chrome/98.0.4758.102 Safari/537.36\", \"Accept-Encoding\":\"gzip, deflate\", \"Accept\":\"text/html,application/xhtml+xml,application/xml;q=0.9,*/*;q=0.8\", \"DNT\":\"1\",\"Connection\":\"close\", \"Upgrade-Insecure-Requests\":\"1\"}\n",
    "    page = requests.get(URL, headers = headers)\n",
    "    Soup1 = BeautifulSoup(page.content, \"html.parser\")\n",
    "    Soup2 = BeautifulSoup(Soup1.prettify(), 'html.parser')\n",
    "\n",
    "    title = Soup2.find(id = 'productTitle').getText()\n",
    "    title = title.strip()\n",
    "\n",
    "\n",
    "    price = Soup2.find(id = 'price').getText()\n",
    "    price = price.strip()[1:]\n",
    "    tags_new = Soup2.find_all('span', attrs={'class': 'olp-new olp-link'})\n",
    "    list_new = []\n",
    "    for tag in tags_new:\n",
    "        list_new = tag.text.split()\n",
    "    Quantity_new = list_new[0]\n",
    "    Type_new = list_new[1]\n",
    "    Price_new = float(list_new[3][1:].replace(',',''))\n",
    "    \n",
    "    tags_used = Soup2.find_all('span', attrs={'class': 'olp-used olp-link'})\n",
    "    list_used= []\n",
    "    for tag in tags_used:\n",
    "        list_used = tag.text.split()\n",
    "    Quantity_used = list_used[0]\n",
    "    Type_used = list_used[1]\n",
    "    Price_used = float(list_used[3][1:].replace(',',''))\n",
    "    \n",
    "    import datetime\n",
    "    today = datetime.date.today()\n",
    "    \n",
    "    import csv\n",
    "    datarow1 = [title, price, Quantity_new, Type_new, Price_new, today]\n",
    "    datarow2 = [title, price, Quantity_used, Type_used, Price_used, today]\n",
    "    \n",
    "    with open('AmazonWebScrapingDataset.csv', 'a+', newline='', encoding='UTF8') as f:\n",
    "        writer = csv.writer(f)\n",
    "        writer.writerow(datarow1)\n",
    "        writer.writerow(datarow2)\n",
    "        \n",
    "    #if((Price_new < 1000) or (Price_used < 1000)):\n",
    "        #send_mail()\n",
    "        \n",
    "    \n",
    "    "
   ]
  },
  {
   "cell_type": "code",
   "execution_count": 62,
   "id": "5c0e4b35",
   "metadata": {},
   "outputs": [],
   "source": [
    "#Function for sending yourself an email when a price hits below a certain level \n",
    "def send_mail():\n",
    "    server = smtplib.SMTP_SSL('smtp.gmail.com',465)\n",
    "    server.ehlo()\n",
    "    #server.starttls()\n",
    "    server.ehlo()\n",
    "    server.login('abcd@gmail.com','xxxxxxxxx')\n",
    "    \n",
    "    subject = \"The book you want to buy is available for less than 1000 Rs! Now is your chance to buy!\"\n",
    "    body = \"Hey! This is the moment we have been waiting for. Now is your chance to pick up the book of your dreams. Don't mess it up! Link here: https://www.amazon.in/Introduction-Machine-Learning-Python-Scientists/dp/9352134575/ref=sr_1_9?crid=25V4SIEM8X2QH&keywords=machine+learning+books&qid=1646018797&sprefix=machine+%2Caps%2C342&sr=8-9\"\n",
    "   \n",
    "    msg = f\"Subject: {subject}\\n\\n{body}\"\n",
    "    \n",
    "    server.sendmail(\n",
    "        'abcd@gmail.com',\n",
    "        msg\n",
    "     \n",
    "    )"
   ]
  },
  {
   "cell_type": "code",
   "execution_count": null,
   "id": "59a2c6d0",
   "metadata": {},
   "outputs": [],
   "source": [
    "while(True):\n",
    "    check_price()\n",
    "    time.sleep(86400) #updates every day"
   ]
  },
  {
   "cell_type": "code",
   "execution_count": null,
   "id": "402207ac",
   "metadata": {},
   "outputs": [],
   "source": []
  },
  {
   "cell_type": "code",
   "execution_count": null,
   "id": "143614ab",
   "metadata": {},
   "outputs": [],
   "source": []
  }
 ],
 "metadata": {
  "kernelspec": {
   "display_name": "Python 3 (ipykernel)",
   "language": "python",
   "name": "python3"
  },
  "language_info": {
   "codemirror_mode": {
    "name": "ipython",
    "version": 3
   },
   "file_extension": ".py",
   "mimetype": "text/x-python",
   "name": "python",
   "nbconvert_exporter": "python",
   "pygments_lexer": "ipython3",
   "version": "3.9.7"
  }
 },
 "nbformat": 4,
 "nbformat_minor": 5
}
